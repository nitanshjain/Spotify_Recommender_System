{
 "cells": [
  {
   "cell_type": "code",
   "execution_count": 1,
   "metadata": {},
   "outputs": [],
   "source": [
    "import spotipy\n",
    "import os\n",
    "import json\n",
    "import pandas as pd\n",
    "import numpy as np\n",
    "from spotipy.oauth2 import SpotifyOAuth\n",
    "from dotenv import load_dotenv"
   ]
  },
  {
   "cell_type": "code",
   "execution_count": 2,
   "metadata": {},
   "outputs": [
    {
     "data": {
      "text/plain": [
       "True"
      ]
     },
     "execution_count": 2,
     "metadata": {},
     "output_type": "execute_result"
    }
   ],
   "source": [
    "load_dotenv()"
   ]
  },
  {
   "cell_type": "code",
   "execution_count": 3,
   "metadata": {},
   "outputs": [],
   "source": [
    "spotipy_client_id = os.getenv('SPOTIPY_CLIENT_ID')\n",
    "spotipy_client_secret = os.getenv('SPOTIPY_CLIENT_SECRET')\n",
    "spotipy_redirect_url = os.getenv('SPOTIPY_REDIRECT_URL')"
   ]
  },
  {
   "cell_type": "code",
   "execution_count": 4,
   "metadata": {},
   "outputs": [],
   "source": [
    "scope = \"playlist-read-private\"\n",
    "sp = spotipy.Spotify(auth_manager=SpotifyOAuth(client_id=spotipy_client_id, client_secret=spotipy_client_secret, redirect_uri=spotipy_redirect_url, scope=scope))"
   ]
  },
  {
   "cell_type": "code",
   "execution_count": 5,
   "metadata": {},
   "outputs": [],
   "source": [
    "results = sp.current_user_playlists()"
   ]
  },
  {
   "cell_type": "code",
   "execution_count": 6,
   "metadata": {},
   "outputs": [
    {
     "name": "stdout",
     "output_type": "stream",
     "text": [
      "dict_keys(['href', 'items', 'limit', 'next', 'offset', 'previous', 'total'])\n"
     ]
    }
   ],
   "source": [
    "# getting result keys\n",
    "print(results.keys())"
   ]
  },
  {
   "cell_type": "code",
   "execution_count": 7,
   "metadata": {},
   "outputs": [
    {
     "name": "stdout",
     "output_type": "stream",
     "text": [
      "{'collaborative': False, 'description': 'Pouring Indie tunes for all you bathroom singers.', 'external_urls': {'spotify': 'https://open.spotify.com/playlist/37i9dQZF1DX0L49JehX6ZU'}, 'href': 'https://api.spotify.com/v1/playlists/37i9dQZF1DX0L49JehX6ZU', 'id': '37i9dQZF1DX0L49JehX6ZU', 'images': [{'height': None, 'url': 'https://i.scdn.co/image/ab67706f0000000316bc1ca9bf6c12110a81a250', 'width': None}], 'name': 'Indie Shower Tunes', 'owner': {'display_name': 'Spotify', 'external_urls': {'spotify': 'https://open.spotify.com/user/spotify'}, 'href': 'https://api.spotify.com/v1/users/spotify', 'id': 'spotify', 'type': 'user', 'uri': 'spotify:user:spotify'}, 'primary_color': None, 'public': False, 'snapshot_id': 'MTY1NTI4ODY0NywwMDAwMDAwMGQ0MWQ4Y2Q5OGYwMGIyMDRlOTgwMDk5OGVjZjg0Mjdl', 'tracks': {'href': 'https://api.spotify.com/v1/playlists/37i9dQZF1DX0L49JehX6ZU/tracks', 'total': 35}, 'type': 'playlist', 'uri': 'spotify:playlist:37i9dQZF1DX0L49JehX6ZU'}\n"
     ]
    }
   ],
   "source": [
    "# print(results[\"items\"][2][\"spotify\"])\n",
    "# print(results[\"items\"][1][\"external_urls\"][\"spotify\"])\n",
    "print(results[\"items\"][0])"
   ]
  },
  {
   "cell_type": "code",
   "execution_count": 8,
   "metadata": {},
   "outputs": [],
   "source": [
    "playlist_data = list()"
   ]
  },
  {
   "cell_type": "code",
   "execution_count": 9,
   "metadata": {},
   "outputs": [],
   "source": [
    "for idx, item in enumerate(results[\"items\"]):\n",
    "    playlist_name = item[\"name\"]\n",
    "    playlist_link = item[\"external_urls\"][\"spotify\"]\n",
    "    if playlist_link is not None:\n",
    "        playlist_URI = playlist_link.split(\"/\")[-1].split(\"?\")[0]\n",
    "    playlist_data.append({\"name\": playlist_name, \"link\": playlist_link, \"URI\": playlist_URI})\n",
    "    "
   ]
  },
  {
   "cell_type": "code",
   "execution_count": 10,
   "metadata": {},
   "outputs": [
    {
     "data": {
      "text/plain": [
       "[{'name': 'Indie Shower Tunes',\n",
       "  'link': 'https://open.spotify.com/playlist/37i9dQZF1DX0L49JehX6ZU',\n",
       "  'URI': '37i9dQZF1DX0L49JehX6ZU'},\n",
       " {'name': 'All Out 00s',\n",
       "  'link': 'https://open.spotify.com/playlist/37i9dQZF1DWZNJXX2UeBij',\n",
       "  'URI': '37i9dQZF1DWZNJXX2UeBij'},\n",
       " {'name': 'Chill Hits',\n",
       "  'link': 'https://open.spotify.com/playlist/37i9dQZF1DX4WYpdgoIcn6',\n",
       "  'URI': '37i9dQZF1DX4WYpdgoIcn6'},\n",
       " {'name': 'Workout',\n",
       "  'link': 'https://open.spotify.com/playlist/37i9dQZF1DX70RN3TfWWJh',\n",
       "  'URI': '37i9dQZF1DX70RN3TfWWJh'},\n",
       " {'name': 'Safar Mix',\n",
       "  'link': 'https://open.spotify.com/playlist/37i9dQZF1DXd05hd2jmMZL',\n",
       "  'URI': '37i9dQZF1DXd05hd2jmMZL'},\n",
       " {'name': 'Songs to Sing in the Car',\n",
       "  'link': 'https://open.spotify.com/playlist/37i9dQZF1DWWMOmoXKqHTD',\n",
       "  'URI': '37i9dQZF1DWWMOmoXKqHTD'},\n",
       " {'name': 'Bas Aise Hi Ver 2',\n",
       "  'link': 'https://open.spotify.com/playlist/1TXW6HAQ1Vml618Y2t14aD',\n",
       "  'URI': '1TXW6HAQ1Vml618Y2t14aD'},\n",
       " {'name': 'español',\n",
       "  'link': 'https://open.spotify.com/playlist/1AKf5MTvUMTfFXamvRsB2s',\n",
       "  'URI': '1AKf5MTvUMTfFXamvRsB2s'},\n",
       " {'name': 'Instrumental',\n",
       "  'link': 'https://open.spotify.com/playlist/0TIFF5FWaHY3V7kKzyVwaz',\n",
       "  'URI': '0TIFF5FWaHY3V7kKzyVwaz'},\n",
       " {'name': 'Nitansh + 5 others',\n",
       "  'link': 'https://open.spotify.com/playlist/37i9dQZF1EJFwSvaNMwtoH',\n",
       "  'URI': '37i9dQZF1EJFwSvaNMwtoH'},\n",
       " {'name': 'Bas Aise Hi',\n",
       "  'link': 'https://open.spotify.com/playlist/2jEOQ3mgbJbWoRNAY5tOVp',\n",
       "  'URI': '2jEOQ3mgbJbWoRNAY5tOVp'}]"
      ]
     },
     "execution_count": 10,
     "metadata": {},
     "output_type": "execute_result"
    }
   ],
   "source": [
    "playlist_data"
   ]
  },
  {
   "cell_type": "code",
   "execution_count": 11,
   "metadata": {},
   "outputs": [
    {
     "name": "stdout",
     "output_type": "stream",
     "text": [
      "Indie Shower Tunes\n",
      "35\n",
      "All Out 00s\n",
      "135\n",
      "Chill Hits\n",
      "235\n",
      "Workout\n",
      "335\n",
      "Safar Mix\n",
      "382\n",
      "Songs to Sing in the Car\n",
      "482\n",
      "Bas Aise Hi Ver 2\n",
      "582\n",
      "español\n",
      "594\n",
      "Instrumental\n",
      "606\n",
      "Nitansh + 5 others\n",
      "656\n",
      "Bas Aise Hi\n",
      "756\n"
     ]
    }
   ],
   "source": [
    "# for name, playlist in enumerate(playlist_data):\n",
    "#     playlist_link = playlist[\"link\"]\n",
    "#     playlist_URI = playlist_link.split(\"/\")[-1].split(\"?\")[0]\n",
    "#     track_uris = [x[\"track\"][\"uri\"] for x in sp.playlist_tracks(playlist_URI)[\"items\"]]\n",
    "songs_list = list()\n",
    "\n",
    "for idx, playlist in enumerate(playlist_data):\n",
    "    playlist_URI = playlist[\"URI\"]\n",
    "    print(playlist[\"name\"])\n",
    "    for x in sp.playlist_tracks(playlist_URI)[\"items\"]:\n",
    "        \n",
    "        track_uris = x[\"track\"][\"uri\"]\n",
    "        track_name = x[\"track\"][\"name\"]\n",
    "        artist_uri = x[\"track\"][\"artists\"][0][\"uri\"]\n",
    "        if artist_uri is not None:\n",
    "            artist_info = sp.artist(artist_uri)\n",
    "        \n",
    "        #Name, popularity, genre\n",
    "        artist_name = x[\"track\"][\"artists\"][0][\"name\"]\n",
    "        artist_pop = artist_info[\"popularity\"]\n",
    "        artist_genres = artist_info[\"genres\"]\n",
    "        \n",
    "        #Album\n",
    "        album = x[\"track\"][\"album\"][\"name\"]\n",
    "        \n",
    "        #Popularity of the track\n",
    "        track_pop = x[\"track\"][\"popularity\"]\n",
    "        \n",
    "        songs_list.append({\"track_uri\":track_uris, \"track_name\":track_name, \"artist_name\":artist_name, \"artist_pop\":artist_pop, \"artist_genres\":artist_genres, \"album\":album, \"track_pop\":track_pop})\n",
    "    print(len(songs_list))\n",
    "    \n"
   ]
  },
  {
   "cell_type": "code",
   "execution_count": 12,
   "metadata": {},
   "outputs": [
    {
     "name": "stdout",
     "output_type": "stream",
     "text": [
      "[{'track_uri': 'spotify:track:08kTa3SL9sV6Iy8KLKtGql', 'track_name': 'Kasoor', 'artist_name': 'Prateek Kuhad', 'artist_pop': 62, 'artist_genres': ['desi pop', 'folk-pop', 'hindi indie', 'indian singer-songwriter'], 'album': 'Kasoor', 'track_pop': 69}, {'track_uri': 'spotify:track:5GJPqaqlCSN19ReZ3Hmue4', 'track_name': 'When We Feel Young', 'artist_name': 'When Chai Met Toast', 'artist_pop': 49, 'artist_genres': ['folk-pop', 'indian indie'], 'album': 'When We Feel Young', 'track_pop': 50}]\n"
     ]
    }
   ],
   "source": [
    "print(songs_list[0:2])"
   ]
  },
  {
   "cell_type": "code",
   "execution_count": 13,
   "metadata": {},
   "outputs": [],
   "source": [
    "features_list = list()\n",
    "for song in songs_list:\n",
    "    try:\n",
    "        x = sp.audio_features(song[\"track_uri\"])\n",
    "        features_list.append({\"track_name\":song[\"track_name\"], \"artist_name\":song[\"artist_name\"], \"artist_pop\":song[\"artist_pop\"], \n",
    "                        \"artist_genres\":song[\"artist_genres\"], \"album\":song[\"album\"], \n",
    "                        \"danceability\":x[0][\"danceability\"], \"energy\":x[0][\"energy\"], \n",
    "                        \"loudness\":x[0][\"loudness\"], \"speechiness\":x[0][\"speechiness\"], \"acousticness\":x[0][\"acousticness\"],\n",
    "                        \"instrumentalness\":x[0][\"instrumentalness\"], \"liveness\":x[0][\"liveness\"], \"valence\":x[0][\"valence\"], \n",
    "                        \"tempo\":x[0][\"tempo\"], \"duration_ms\":x[0][\"duration_ms\"], \"time_signature\":x[0][\"time_signature\"],\n",
    "                        \"track_pop\":song[\"track_pop\"]})\n",
    "    except:\n",
    "        print(\"'NoneType' object is not subscriptable\")\n",
    "    \n",
    "    # break"
   ]
  },
  {
   "cell_type": "code",
   "execution_count": 14,
   "metadata": {},
   "outputs": [
    {
     "name": "stdout",
     "output_type": "stream",
     "text": [
      "756\n"
     ]
    }
   ],
   "source": [
    "print(len(features_list))"
   ]
  },
  {
   "cell_type": "markdown",
   "metadata": {},
   "source": [
    "## References\n",
    "\n",
    "```https://towardsdatascience.com/extracting-song-data-from-the-spotify-api-using-python-b1e79388d50```\n",
    "```https://spotipy.readthedocs.io/en/2.19.0/```\n"
   ]
  }
 ],
 "metadata": {
  "kernelspec": {
   "display_name": "Python 3.10.4 64-bit",
   "language": "python",
   "name": "python3"
  },
  "language_info": {
   "codemirror_mode": {
    "name": "ipython",
    "version": 3
   },
   "file_extension": ".py",
   "mimetype": "text/x-python",
   "name": "python",
   "nbconvert_exporter": "python",
   "pygments_lexer": "ipython3",
   "version": "3.10.4"
  },
  "orig_nbformat": 4,
  "vscode": {
   "interpreter": {
    "hash": "aee8b7b246df8f9039afb4144a1f6fd8d2ca17a180786b69acc140d282b71a49"
   }
  }
 },
 "nbformat": 4,
 "nbformat_minor": 2
}
