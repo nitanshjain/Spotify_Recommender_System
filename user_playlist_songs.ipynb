{
 "cells": [
  {
   "cell_type": "code",
   "execution_count": 10,
   "metadata": {},
   "outputs": [],
   "source": [
    "import spotipy\n",
    "import os\n",
    "import json\n",
    "import pandas as pd\n",
    "import numpy as np\n",
    "from spotipy.oauth2 import SpotifyOAuth\n",
    "from dotenv import load_dotenv"
   ]
  },
  {
   "cell_type": "code",
   "execution_count": 11,
   "metadata": {},
   "outputs": [
    {
     "data": {
      "text/plain": [
       "True"
      ]
     },
     "execution_count": 11,
     "metadata": {},
     "output_type": "execute_result"
    }
   ],
   "source": [
    "load_dotenv()"
   ]
  },
  {
   "cell_type": "code",
   "execution_count": 12,
   "metadata": {},
   "outputs": [],
   "source": [
    "spotipy_client_id = os.getenv('SPOTIPY_CLIENT_ID')\n",
    "spotipy_client_secret = os.getenv('SPOTIPY_CLIENT_SECRET')\n",
    "spotipy_redirect_url = os.getenv('SPOTIPY_REDIRECT_URL')"
   ]
  },
  {
   "cell_type": "code",
   "execution_count": 20,
   "metadata": {},
   "outputs": [],
   "source": [
    "scope = \"playlist-read-private\"\n",
    "sp = spotipy.Spotify(auth_manager=SpotifyOAuth(client_id=spotipy_client_id, client_secret=spotipy_client_secret, redirect_uri=spotipy_redirect_url, scope=scope))"
   ]
  },
  {
   "cell_type": "code",
   "execution_count": 22,
   "metadata": {},
   "outputs": [],
   "source": [
    "results = sp.current_user_playlists()"
   ]
  },
  {
   "cell_type": "code",
   "execution_count": 23,
   "metadata": {},
   "outputs": [
    {
     "name": "stdout",
     "output_type": "stream",
     "text": [
      "dict_keys(['href', 'items', 'limit', 'next', 'offset', 'previous', 'total'])\n"
     ]
    }
   ],
   "source": [
    "# getting result keys\n",
    "print(results.keys())"
   ]
  },
  {
   "cell_type": "code",
   "execution_count": 24,
   "metadata": {},
   "outputs": [
    {
     "name": "stdout",
     "output_type": "stream",
     "text": [
      "{'collaborative': False, 'description': '', 'external_urls': {'spotify': 'https://open.spotify.com/playlist/1TXW6HAQ1Vml618Y2t14aD'}, 'href': 'https://api.spotify.com/v1/playlists/1TXW6HAQ1Vml618Y2t14aD', 'id': '1TXW6HAQ1Vml618Y2t14aD', 'images': [{'height': 640, 'url': 'https://mosaic.scdn.co/640/ab67616d0000b273443c56aa70db13cdafd4cfe7ab67616d0000b27382589dd295a78e6d5ca9afb9ab67616d0000b273f789b02ba6655a1f03d17b9fab67616d0000b273f8c4cabe5ab9abbc0b9047f9', 'width': 640}, {'height': 300, 'url': 'https://mosaic.scdn.co/300/ab67616d0000b273443c56aa70db13cdafd4cfe7ab67616d0000b27382589dd295a78e6d5ca9afb9ab67616d0000b273f789b02ba6655a1f03d17b9fab67616d0000b273f8c4cabe5ab9abbc0b9047f9', 'width': 300}, {'height': 60, 'url': 'https://mosaic.scdn.co/60/ab67616d0000b273443c56aa70db13cdafd4cfe7ab67616d0000b27382589dd295a78e6d5ca9afb9ab67616d0000b273f789b02ba6655a1f03d17b9fab67616d0000b273f8c4cabe5ab9abbc0b9047f9', 'width': 60}], 'name': 'Bas Aise Hi Ver 2', 'owner': {'display_name': 'Nitansh Jain', 'external_urls': {'spotify': 'https://open.spotify.com/user/gmfqy9vpbk1t1jr7644fx0i4w'}, 'href': 'https://api.spotify.com/v1/users/gmfqy9vpbk1t1jr7644fx0i4w', 'id': 'gmfqy9vpbk1t1jr7644fx0i4w', 'type': 'user', 'uri': 'spotify:user:gmfqy9vpbk1t1jr7644fx0i4w'}, 'primary_color': None, 'public': True, 'snapshot_id': 'MTYwLDZhZTRjNmIyOTg0NDQ4YmZkOTk1MmY2NzMzNTA3YTcyODBhZTg2ZTg=', 'tracks': {'href': 'https://api.spotify.com/v1/playlists/1TXW6HAQ1Vml618Y2t14aD/tracks', 'total': 156}, 'type': 'playlist', 'uri': 'spotify:playlist:1TXW6HAQ1Vml618Y2t14aD'}\n"
     ]
    }
   ],
   "source": [
    "# print(results[\"items\"][2][\"spotify\"])\n",
    "# print(results[\"items\"][1][\"external_urls\"][\"spotify\"])\n",
    "print(results[\"items\"][0])"
   ]
  },
  {
   "cell_type": "code",
   "execution_count": 25,
   "metadata": {},
   "outputs": [],
   "source": [
    "playlist_data = list()"
   ]
  },
  {
   "cell_type": "code",
   "execution_count": 26,
   "metadata": {},
   "outputs": [],
   "source": [
    "for idx, item in enumerate(results[\"items\"]):\n",
    "    playlist_name = item[\"name\"]\n",
    "    playlist_link = item[\"external_urls\"][\"spotify\"]\n",
    "    playlist_URI = playlist_link.split(\"/\")[-1].split(\"?\")[0]\n",
    "    playlist_data.append({\"name\": playlist_name, \"link\": playlist_link, \"URI\": playlist_URI})\n",
    "    "
   ]
  },
  {
   "cell_type": "code",
   "execution_count": 27,
   "metadata": {},
   "outputs": [
    {
     "data": {
      "text/plain": [
       "[{'name': 'Bas Aise Hi Ver 2',\n",
       "  'link': 'https://open.spotify.com/playlist/1TXW6HAQ1Vml618Y2t14aD',\n",
       "  'URI': '1TXW6HAQ1Vml618Y2t14aD'},\n",
       " {'name': 'español',\n",
       "  'link': 'https://open.spotify.com/playlist/1AKf5MTvUMTfFXamvRsB2s',\n",
       "  'URI': '1AKf5MTvUMTfFXamvRsB2s'},\n",
       " {'name': 'Instrumental',\n",
       "  'link': 'https://open.spotify.com/playlist/0TIFF5FWaHY3V7kKzyVwaz',\n",
       "  'URI': '0TIFF5FWaHY3V7kKzyVwaz'},\n",
       " {'name': 'Nitansh + 5 others',\n",
       "  'link': 'https://open.spotify.com/playlist/37i9dQZF1EJFwSvaNMwtoH',\n",
       "  'URI': '37i9dQZF1EJFwSvaNMwtoH'},\n",
       " {'name': 'Bas Aise Hi',\n",
       "  'link': 'https://open.spotify.com/playlist/2jEOQ3mgbJbWoRNAY5tOVp',\n",
       "  'URI': '2jEOQ3mgbJbWoRNAY5tOVp'}]"
      ]
     },
     "execution_count": 27,
     "metadata": {},
     "output_type": "execute_result"
    }
   ],
   "source": [
    "playlist_data"
   ]
  },
  {
   "cell_type": "code",
   "execution_count": 28,
   "metadata": {},
   "outputs": [
    {
     "name": "stdout",
     "output_type": "stream",
     "text": [
      "Bas Aise Hi Ver 2\n",
      "100\n",
      "español\n",
      "112\n",
      "Instrumental\n",
      "124\n",
      "Nitansh + 5 others\n",
      "174\n",
      "Bas Aise Hi\n",
      "274\n"
     ]
    }
   ],
   "source": [
    "# for name, playlist in enumerate(playlist_data):\n",
    "#     playlist_link = playlist[\"link\"]\n",
    "#     playlist_URI = playlist_link.split(\"/\")[-1].split(\"?\")[0]\n",
    "#     track_uris = [x[\"track\"][\"uri\"] for x in sp.playlist_tracks(playlist_URI)[\"items\"]]\n",
    "songs_list = list()\n",
    "\n",
    "for idx, playlist in enumerate(playlist_data):\n",
    "    playlist_URI = playlist[\"URI\"]\n",
    "    print(playlist[\"name\"])\n",
    "    for x in sp.playlist_tracks(playlist_URI)[\"items\"]:\n",
    "        track_uris = x[\"track\"][\"uri\"]\n",
    "        track_name = x[\"track\"][\"name\"]\n",
    "        artist_uri = x[\"track\"][\"artists\"][0][\"uri\"]\n",
    "        artist_info = sp.artist(artist_uri)\n",
    "        \n",
    "        #Name, popularity, genre\n",
    "        artist_name = x[\"track\"][\"artists\"][0][\"name\"]\n",
    "        artist_pop = artist_info[\"popularity\"]\n",
    "        artist_genres = artist_info[\"genres\"]\n",
    "        \n",
    "        #Album\n",
    "        album = x[\"track\"][\"album\"][\"name\"]\n",
    "        \n",
    "        #Popularity of the track\n",
    "        track_pop = x[\"track\"][\"popularity\"]\n",
    "        \n",
    "        songs_list.append({\"track_uri\":track_uris, \"track_name\":track_name, \"artist_name\":artist_name, \"artist_pop\":artist_pop, \"artist_genres\":artist_genres, \"album\":album, \"track_pop\":track_pop})\n",
    "    print(len(songs_list))\n",
    "    \n"
   ]
  },
  {
   "cell_type": "code",
   "execution_count": 29,
   "metadata": {},
   "outputs": [
    {
     "name": "stdout",
     "output_type": "stream",
     "text": [
      "274\n"
     ]
    }
   ],
   "source": [
    "print(len(songs_list))"
   ]
  },
  {
   "cell_type": "code",
   "execution_count": 30,
   "metadata": {},
   "outputs": [],
   "source": [
    "features_list = list()\n",
    "for song in songs_list:\n",
    "    x = sp.audio_features(song[\"track_uri\"])\n",
    "    features_list.append({\"track_name\":song[\"track_name\"], \"artist_name\":song[\"artist_name\"], \"artist_pop\":song[\"artist_pop\"], \"artist_genres\":song[\"artist_genres\"], \"album\":song[\"album\"], \"track_pop\":song[\"track_pop\"], \"danceability\":x[0][\"danceability\"], \"energy\":x[0][\"energy\"], \"loudness\":x[0][\"loudness\"], \"speechiness\":x[0][\"speechiness\"], \"acousticness\":x[0][\"acousticness\"], \"instrumentalness\":x[0][\"instrumentalness\"], \"liveness\":x[0][\"liveness\"], \"valence\":x[0][\"valence\"], \"tempo\":x[0][\"tempo\"], \"duration_ms\":x[0][\"duration_ms\"], \"time_signature\":x[0][\"time_signature\"]})"
   ]
  },
  {
   "cell_type": "code",
   "execution_count": 31,
   "metadata": {},
   "outputs": [
    {
     "name": "stdout",
     "output_type": "stream",
     "text": [
      "274\n"
     ]
    }
   ],
   "source": [
    "print(len(features_list))"
   ]
  },
  {
   "cell_type": "markdown",
   "metadata": {},
   "source": [
    "## References\n",
    "\n",
    "```https://towardsdatascience.com/extracting-song-data-from-the-spotify-api-using-python-b1e79388d50```\n"
   ]
  }
 ],
 "metadata": {
  "kernelspec": {
   "display_name": "Python 3.10.4 64-bit",
   "language": "python",
   "name": "python3"
  },
  "language_info": {
   "codemirror_mode": {
    "name": "ipython",
    "version": 3
   },
   "file_extension": ".py",
   "mimetype": "text/x-python",
   "name": "python",
   "nbconvert_exporter": "python",
   "pygments_lexer": "ipython3",
   "version": "3.10.4"
  },
  "orig_nbformat": 4,
  "vscode": {
   "interpreter": {
    "hash": "aee8b7b246df8f9039afb4144a1f6fd8d2ca17a180786b69acc140d282b71a49"
   }
  }
 },
 "nbformat": 4,
 "nbformat_minor": 2
}
