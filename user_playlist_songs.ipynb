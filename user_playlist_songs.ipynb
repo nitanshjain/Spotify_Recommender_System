{
 "cells": [
  {
   "cell_type": "code",
   "execution_count": 15,
   "metadata": {},
   "outputs": [],
   "source": [
    "import spotipy\n",
    "import os\n",
    "import json\n",
    "import pandas as pd\n",
    "import numpy as np\n",
    "from spotipy.oauth2 import SpotifyOAuth\n",
    "from dotenv import load_dotenv"
   ]
  },
  {
   "cell_type": "code",
   "execution_count": 16,
   "metadata": {},
   "outputs": [
    {
     "data": {
      "text/plain": [
       "True"
      ]
     },
     "execution_count": 16,
     "metadata": {},
     "output_type": "execute_result"
    }
   ],
   "source": [
    "load_dotenv()"
   ]
  },
  {
   "cell_type": "code",
   "execution_count": 17,
   "metadata": {},
   "outputs": [],
   "source": [
    "spotipy_client_id = os.getenv('SPOTIPY_CLIENT_ID')\n",
    "spotipy_client_secret = os.getenv('SPOTIPY_CLIENT_SECRET')\n",
    "spotipy_redirect_url = os.getenv('SPOTIPY_REDIRECT_URL')"
   ]
  },
  {
   "cell_type": "code",
   "execution_count": 18,
   "metadata": {},
   "outputs": [],
   "source": [
    "scope = \"playlist-read-private\"\n",
    "sp = spotipy.Spotify(auth_manager=SpotifyOAuth(client_id=spotipy_client_id, client_secret=spotipy_client_secret, redirect_uri=spotipy_redirect_url, scope=scope))"
   ]
  },
  {
   "cell_type": "code",
   "execution_count": 19,
   "metadata": {},
   "outputs": [],
   "source": [
    "results = sp.current_user_playlists()"
   ]
  },
  {
   "cell_type": "code",
   "execution_count": 20,
   "metadata": {},
   "outputs": [
    {
     "name": "stdout",
     "output_type": "stream",
     "text": [
      "dict_keys(['href', 'items', 'limit', 'next', 'offset', 'previous', 'total'])\n"
     ]
    }
   ],
   "source": [
    "# getting result keys\n",
    "print(results.keys())"
   ]
  },
  {
   "cell_type": "code",
   "execution_count": 21,
   "metadata": {},
   "outputs": [
    {
     "name": "stdout",
     "output_type": "stream",
     "text": [
      "{'collaborative': False, 'description': 'Your R&B favorites. Cover: Priya Ragu', 'external_urls': {'spotify': 'https://open.spotify.com/playlist/37i9dQZF1DX7yRWDZJQ3Yz'}, 'href': 'https://api.spotify.com/v1/playlists/37i9dQZF1DX7yRWDZJQ3Yz', 'id': '37i9dQZF1DX7yRWDZJQ3Yz', 'images': [{'height': None, 'url': 'https://i.scdn.co/image/ab67706f00000003f841f64a2f7ad8e0eb901f96', 'width': None}], 'name': 'Vibe', 'owner': {'display_name': 'Spotify', 'external_urls': {'spotify': 'https://open.spotify.com/user/spotify'}, 'href': 'https://api.spotify.com/v1/users/spotify', 'id': 'spotify', 'type': 'user', 'uri': 'spotify:user:spotify'}, 'primary_color': None, 'public': False, 'snapshot_id': 'MTY0NDkxMTc4NSwwMDAwMDAxMjAwMDAwMTdlZmM2MWY1NDkwMDAwMDE3YmRkZWNjOTll', 'tracks': {'href': 'https://api.spotify.com/v1/playlists/37i9dQZF1DX7yRWDZJQ3Yz/tracks', 'total': 52}, 'type': 'playlist', 'uri': 'spotify:playlist:37i9dQZF1DX7yRWDZJQ3Yz'}\n"
     ]
    }
   ],
   "source": [
    "# print(results[\"items\"][2][\"spotify\"])\n",
    "# print(results[\"items\"][1][\"external_urls\"][\"spotify\"])\n",
    "print(results[\"items\"][0])"
   ]
  },
  {
   "cell_type": "code",
   "execution_count": 22,
   "metadata": {},
   "outputs": [],
   "source": [
    "playlist_data = list()"
   ]
  },
  {
   "cell_type": "code",
   "execution_count": 23,
   "metadata": {},
   "outputs": [],
   "source": [
    "for idx, item in enumerate(results[\"items\"]):\n",
    "    playlist_name = item[\"name\"]\n",
    "    playlist_link = item[\"external_urls\"][\"spotify\"]\n",
    "    if playlist_link is not None:\n",
    "        playlist_URI = playlist_link.split(\"/\")[-1].split(\"?\")[0]\n",
    "    playlist_data.append({\"name\": playlist_name, \"link\": playlist_link, \"URI\": playlist_URI})\n",
    "    "
   ]
  },
  {
   "cell_type": "code",
   "execution_count": 24,
   "metadata": {},
   "outputs": [
    {
     "data": {
      "text/plain": [
       "[{'name': 'Vibe',\n",
       "  'link': 'https://open.spotify.com/playlist/37i9dQZF1DX7yRWDZJQ3Yz',\n",
       "  'URI': '37i9dQZF1DX7yRWDZJQ3Yz'},\n",
       " {'name': 'mint',\n",
       "  'link': 'https://open.spotify.com/playlist/37i9dQZF1DX4dyzvuaRJ0n',\n",
       "  'URI': '37i9dQZF1DX4dyzvuaRJ0n'},\n",
       " {'name': 'Hot Hits India',\n",
       "  'link': 'https://open.spotify.com/playlist/37i9dQZF1DX0ieekvzt1Ic',\n",
       "  'URI': '37i9dQZF1DX0ieekvzt1Ic'},\n",
       " {'name': 'Pop Rising',\n",
       "  'link': 'https://open.spotify.com/playlist/37i9dQZF1DWUa8ZRTfalHk',\n",
       "  'URI': '37i9dQZF1DWUa8ZRTfalHk'},\n",
       " {'name': 'Top Hits Hindi',\n",
       "  'link': 'https://open.spotify.com/playlist/37i9dQZF1DX0XUfTFmNBRM',\n",
       "  'URI': '37i9dQZF1DX0XUfTFmNBRM'},\n",
       " {'name': 'Fresh Finds Pop',\n",
       "  'link': 'https://open.spotify.com/playlist/37i9dQZF1DX3u9TSHqpdJC',\n",
       "  'URI': '37i9dQZF1DX3u9TSHqpdJC'},\n",
       " {'name': 'Fresh Finds',\n",
       "  'link': 'https://open.spotify.com/playlist/37i9dQZF1DWWjGdmeTyeJ6',\n",
       "  'URI': '37i9dQZF1DWWjGdmeTyeJ6'},\n",
       " {'name': 'Xport',\n",
       "  'link': 'https://open.spotify.com/playlist/37i9dQZF1DX9MrAJRR2Zxk',\n",
       "  'URI': '37i9dQZF1DX9MrAJRR2Zxk'},\n",
       " {'name': 'Reggae Classics',\n",
       "  'link': 'https://open.spotify.com/playlist/37i9dQZF1DXbSbnqxMTGx9',\n",
       "  'URI': '37i9dQZF1DXbSbnqxMTGx9'},\n",
       " {'name': 'Metal Ballads',\n",
       "  'link': 'https://open.spotify.com/playlist/37i9dQZF1DX1kydukZhLms',\n",
       "  'URI': '37i9dQZF1DX1kydukZhLms'},\n",
       " {'name': 'Heavy Metal',\n",
       "  'link': 'https://open.spotify.com/playlist/37i9dQZF1DX9qNs32fujYe',\n",
       "  'URI': '37i9dQZF1DX9qNs32fujYe'},\n",
       " {'name': 'Classic Acoustic',\n",
       "  'link': 'https://open.spotify.com/playlist/37i9dQZF1DX504r1DvyvxG',\n",
       "  'URI': '37i9dQZF1DX504r1DvyvxG'},\n",
       " {'name': 'Chill Folk',\n",
       "  'link': 'https://open.spotify.com/playlist/37i9dQZF1DWVl5gPCRkquk',\n",
       "  'URI': '37i9dQZF1DWVl5gPCRkquk'},\n",
       " {'name': 'Rainy Day Jazz',\n",
       "  'link': 'https://open.spotify.com/playlist/37i9dQZF1DWYxwmBaMqxsl',\n",
       "  'URI': '37i9dQZF1DWYxwmBaMqxsl'},\n",
       " {'name': 'New Music Punjabi',\n",
       "  'link': 'https://open.spotify.com/playlist/37i9dQZF1DX5baCFRgbF3x',\n",
       "  'URI': '37i9dQZF1DX5baCFRgbF3x'},\n",
       " {'name': 'Top 50 - Global',\n",
       "  'link': 'https://open.spotify.com/playlist/37i9dQZEVXbMDoHDwVN2tF',\n",
       "  'URI': '37i9dQZEVXbMDoHDwVN2tF'},\n",
       " {'name': 'Disney Hits',\n",
       "  'link': 'https://open.spotify.com/playlist/37i9dQZF1DX8C9xQcOrE6T',\n",
       "  'URI': '37i9dQZF1DX8C9xQcOrE6T'},\n",
       " {'name': 'Best of the Decade For You',\n",
       "  'link': 'https://open.spotify.com/playlist/37i9dQZF1DXaMu9xyX1HzK',\n",
       "  'URI': '37i9dQZF1DXaMu9xyX1HzK'},\n",
       " {'name': 'The Ultimate Hit Mix',\n",
       "  'link': 'https://open.spotify.com/playlist/37i9dQZF1DWUZMtnnlvJ9p',\n",
       "  'URI': '37i9dQZF1DWUZMtnnlvJ9p'},\n",
       " {'name': 'Music Shuttle',\n",
       "  'link': 'https://open.spotify.com/playlist/37i9dQZF1DWVDvBpGQbzXj',\n",
       "  'URI': '37i9dQZF1DWVDvBpGQbzXj'},\n",
       " {'name': 'Pop Mix',\n",
       "  'link': 'https://open.spotify.com/playlist/37i9dQZF1EQncLwOalG3K7',\n",
       "  'URI': '37i9dQZF1EQncLwOalG3K7'},\n",
       " {'name': 'Matt Maeson Mix',\n",
       "  'link': 'https://open.spotify.com/playlist/37i9dQZF1EIVqFtFdpsW34',\n",
       "  'URI': '37i9dQZF1EIVqFtFdpsW34'},\n",
       " {'name': 'Coldplay Mix',\n",
       "  'link': 'https://open.spotify.com/playlist/37i9dQZF1EIWI4rTf402lQ',\n",
       "  'URI': '37i9dQZF1EIWI4rTf402lQ'},\n",
       " {'name': 'Romantic Mix',\n",
       "  'link': 'https://open.spotify.com/playlist/37i9dQZF1EVGJJ3r00UGAt',\n",
       "  'URI': '37i9dQZF1EVGJJ3r00UGAt'},\n",
       " {'name': 'Happy Mix',\n",
       "  'link': 'https://open.spotify.com/playlist/37i9dQZF1EVJSvZp5AOML2',\n",
       "  'URI': '37i9dQZF1EVJSvZp5AOML2'},\n",
       " {'name': 'Indie Shower Tunes',\n",
       "  'link': 'https://open.spotify.com/playlist/37i9dQZF1DX0L49JehX6ZU',\n",
       "  'URI': '37i9dQZF1DX0L49JehX6ZU'},\n",
       " {'name': 'All Out 00s',\n",
       "  'link': 'https://open.spotify.com/playlist/37i9dQZF1DWZNJXX2UeBij',\n",
       "  'URI': '37i9dQZF1DWZNJXX2UeBij'},\n",
       " {'name': 'Chill Hits',\n",
       "  'link': 'https://open.spotify.com/playlist/37i9dQZF1DX4WYpdgoIcn6',\n",
       "  'URI': '37i9dQZF1DX4WYpdgoIcn6'},\n",
       " {'name': 'Workout',\n",
       "  'link': 'https://open.spotify.com/playlist/37i9dQZF1DX70RN3TfWWJh',\n",
       "  'URI': '37i9dQZF1DX70RN3TfWWJh'},\n",
       " {'name': 'Safar Mix',\n",
       "  'link': 'https://open.spotify.com/playlist/37i9dQZF1DXd05hd2jmMZL',\n",
       "  'URI': '37i9dQZF1DXd05hd2jmMZL'},\n",
       " {'name': 'Songs to Sing in the Car',\n",
       "  'link': 'https://open.spotify.com/playlist/37i9dQZF1DWWMOmoXKqHTD',\n",
       "  'URI': '37i9dQZF1DWWMOmoXKqHTD'},\n",
       " {'name': 'Bas Aise Hi Ver 2',\n",
       "  'link': 'https://open.spotify.com/playlist/1TXW6HAQ1Vml618Y2t14aD',\n",
       "  'URI': '1TXW6HAQ1Vml618Y2t14aD'},\n",
       " {'name': 'Nitansh + 5 others',\n",
       "  'link': 'https://open.spotify.com/playlist/37i9dQZF1EJFwSvaNMwtoH',\n",
       "  'URI': '37i9dQZF1EJFwSvaNMwtoH'},\n",
       " {'name': 'Bas Aise Hi',\n",
       "  'link': 'https://open.spotify.com/playlist/2jEOQ3mgbJbWoRNAY5tOVp',\n",
       "  'URI': '2jEOQ3mgbJbWoRNAY5tOVp'}]"
      ]
     },
     "execution_count": 24,
     "metadata": {},
     "output_type": "execute_result"
    }
   ],
   "source": [
    "playlist_data"
   ]
  },
  {
   "cell_type": "code",
   "execution_count": 25,
   "metadata": {},
   "outputs": [
    {
     "name": "stdout",
     "output_type": "stream",
     "text": [
      "Vibe\n",
      "52\n",
      "mint\n",
      "152\n",
      "Hot Hits India\n",
      "209\n",
      "Pop Rising\n",
      "294\n",
      "Top Hits Hindi\n",
      "344\n",
      "Fresh Finds Pop\n",
      "424\n",
      "Fresh Finds\n",
      "499\n",
      "Xport\n",
      "549\n",
      "Reggae Classics\n",
      "609\n",
      "Metal Ballads\n",
      "709\n",
      "Heavy Metal\n",
      "809\n",
      "Classic Acoustic\n",
      "909\n",
      "Chill Folk\n",
      "1009\n",
      "Rainy Day Jazz\n",
      "1109\n",
      "New Music Punjabi\n",
      "1209\n",
      "Top 50 - Global\n",
      "1259\n",
      "Disney Hits\n",
      "1359\n",
      "Best of the Decade For You\n",
      "1459\n",
      "The Ultimate Hit Mix\n",
      "1559\n",
      "Music Shuttle\n",
      "1613\n",
      "Pop Mix\n",
      "1663\n",
      "Matt Maeson Mix\n",
      "1713\n",
      "Coldplay Mix\n",
      "1763\n",
      "Romantic Mix\n",
      "1813\n",
      "Happy Mix\n",
      "1863\n",
      "Indie Shower Tunes\n",
      "1898\n",
      "All Out 00s\n",
      "1998\n",
      "Chill Hits\n",
      "2098\n",
      "Workout\n",
      "2198\n",
      "Safar Mix\n",
      "2245\n",
      "Songs to Sing in the Car\n",
      "2345\n",
      "Bas Aise Hi Ver 2\n",
      "2445\n",
      "Nitansh + 5 others\n",
      "2495\n",
      "Bas Aise Hi\n",
      "2595\n"
     ]
    }
   ],
   "source": [
    "# for name, playlist in enumerate(playlist_data):\n",
    "#     playlist_link = playlist[\"link\"]\n",
    "#     playlist_URI = playlist_link.split(\"/\")[-1].split(\"?\")[0]\n",
    "#     track_uris = [x[\"track\"][\"uri\"] for x in sp.playlist_tracks(playlist_URI)[\"items\"]]\n",
    "songs_list = list()\n",
    "\n",
    "for idx, playlist in enumerate(playlist_data):\n",
    "    playlist_URI = playlist[\"URI\"]\n",
    "    print(playlist[\"name\"])\n",
    "    for x in sp.playlist_tracks(playlist_URI)[\"items\"]:\n",
    "        \n",
    "        track_uris = x[\"track\"][\"uri\"]\n",
    "        track_name = x[\"track\"][\"name\"]\n",
    "        artist_uri = x[\"track\"][\"artists\"][0][\"uri\"]\n",
    "        if artist_uri is not None:\n",
    "            artist_info = sp.artist(artist_uri)\n",
    "        \n",
    "        #Name, popularity, genre\n",
    "        artist_name = x[\"track\"][\"artists\"][0][\"name\"]\n",
    "        artist_pop = artist_info[\"popularity\"]\n",
    "        artist_genres = artist_info[\"genres\"]\n",
    "        \n",
    "        #Album\n",
    "        album = x[\"track\"][\"album\"][\"name\"]\n",
    "        \n",
    "        #Popularity of the track\n",
    "        track_pop = x[\"track\"][\"popularity\"]\n",
    "        \n",
    "        songs_list.append({\"track_uri\":track_uris, \"track_name\":track_name, \"artist_name\":artist_name, \"artist_pop\":artist_pop, \"artist_genres\":artist_genres, \"album\":album, \"track_pop\":track_pop})\n",
    "    print(len(songs_list))\n",
    "    \n"
   ]
  },
  {
   "cell_type": "code",
   "execution_count": 26,
   "metadata": {},
   "outputs": [
    {
     "name": "stdout",
     "output_type": "stream",
     "text": [
      "[{'track_uri': 'spotify:track:0k4d5YPDr1r7FX77VdqWez', 'track_name': 'You Right', 'artist_name': 'Doja Cat', 'artist_pop': 88, 'artist_genres': ['dance pop', 'pop'], 'album': 'Planet Her', 'track_pop': 85}, {'track_uri': 'spotify:track:4XkrlDVc8UQUvsyRsxvU0M', 'track_name': 'Wild Side (feat. Cardi B)', 'artist_name': 'Normani', 'artist_pop': 68, 'artist_genres': ['dance pop', 'pop', 'post-teen pop', 'r&b', 'urban contemporary'], 'album': 'Wild Side (feat. Cardi B)', 'track_pop': 7}]\n"
     ]
    }
   ],
   "source": [
    "print(songs_list[0:2])"
   ]
  },
  {
   "cell_type": "code",
   "execution_count": 27,
   "metadata": {},
   "outputs": [],
   "source": [
    "features_list = list()\n",
    "for song in songs_list:\n",
    "    try:\n",
    "        x = sp.audio_features(song[\"track_uri\"])\n",
    "        features_list.append({\"track_name\":song[\"track_name\"], \"artist_name\":song[\"artist_name\"], \"artist_pop\":song[\"artist_pop\"], \n",
    "                        \"artist_genres\":song[\"artist_genres\"], \"album\":song[\"album\"], \n",
    "                        \"danceability\":x[0][\"danceability\"], \"energy\":x[0][\"energy\"], \n",
    "                        \"loudness\":x[0][\"loudness\"], \"speechiness\":x[0][\"speechiness\"], \"acousticness\":x[0][\"acousticness\"],\n",
    "                        \"instrumentalness\":x[0][\"instrumentalness\"], \"liveness\":x[0][\"liveness\"], \"valence\":x[0][\"valence\"], \n",
    "                        \"tempo\":x[0][\"tempo\"], \"duration_ms\":x[0][\"duration_ms\"], \"time_signature\":x[0][\"time_signature\"],\n",
    "                        \"track_pop\":song[\"track_pop\"]})\n",
    "    except:\n",
    "        print(\"'NoneType' object is not subscriptable\")\n",
    "    \n",
    "    # break"
   ]
  },
  {
   "cell_type": "code",
   "execution_count": 28,
   "metadata": {},
   "outputs": [
    {
     "name": "stdout",
     "output_type": "stream",
     "text": [
      "2595\n"
     ]
    }
   ],
   "source": [
    "print(len(features_list))"
   ]
  },
  {
   "cell_type": "markdown",
   "metadata": {},
   "source": [
    "## References\n",
    "\n",
    "```https://towardsdatascience.com/extracting-song-data-from-the-spotify-api-using-python-b1e79388d50```\n",
    "```https://spotipy.readthedocs.io/en/2.19.0/```\n"
   ]
  }
 ],
 "metadata": {
  "kernelspec": {
   "display_name": "Python 3.10.4 64-bit",
   "language": "python",
   "name": "python3"
  },
  "language_info": {
   "codemirror_mode": {
    "name": "ipython",
    "version": 3
   },
   "file_extension": ".py",
   "mimetype": "text/x-python",
   "name": "python",
   "nbconvert_exporter": "python",
   "pygments_lexer": "ipython3",
   "version": "3.10.4"
  },
  "orig_nbformat": 4,
  "vscode": {
   "interpreter": {
    "hash": "aee8b7b246df8f9039afb4144a1f6fd8d2ca17a180786b69acc140d282b71a49"
   }
  }
 },
 "nbformat": 4,
 "nbformat_minor": 2
}
