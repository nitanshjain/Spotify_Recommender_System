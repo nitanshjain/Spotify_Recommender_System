{
 "cells": [
  {
   "cell_type": "code",
   "execution_count": 3,
   "metadata": {},
   "outputs": [
    {
     "name": "stdout",
     "output_type": "stream",
     "text": [
      "importing Jupyter notebook from user_playlist_songs.ipynb\n",
      "dict_keys(['href', 'items', 'limit', 'next', 'offset', 'previous', 'total'])\n",
      "{'collaborative': False, 'description': 'Soft and moody jazz for a rainy day.', 'external_urls': {'spotify': 'https://open.spotify.com/playlist/37i9dQZF1DWYxwmBaMqxsl'}, 'href': 'https://api.spotify.com/v1/playlists/37i9dQZF1DWYxwmBaMqxsl', 'id': '37i9dQZF1DWYxwmBaMqxsl', 'images': [{'height': None, 'url': 'https://i.scdn.co/image/ab67706f00000003662fb6df67f315c8455b2ba5', 'width': None}], 'name': 'Rainy Day Jazz', 'owner': {'display_name': 'Spotify', 'external_urls': {'spotify': 'https://open.spotify.com/user/spotify'}, 'href': 'https://api.spotify.com/v1/users/spotify', 'id': 'spotify', 'type': 'user', 'uri': 'spotify:user:spotify'}, 'primary_color': None, 'public': False, 'snapshot_id': 'MTY1NTE5ODA4NCwwMDAwMDA3NzAwMDAwMTgxNjE3ZTZkYmYwMDAwMDE4MTVkNzRmNDUx', 'tracks': {'href': 'https://api.spotify.com/v1/playlists/37i9dQZF1DWYxwmBaMqxsl/tracks', 'total': 129}, 'type': 'playlist', 'uri': 'spotify:playlist:37i9dQZF1DWYxwmBaMqxsl'}\n",
      "Rainy Day Jazz\n",
      "100\n",
      "New Music Punjabi\n",
      "200\n",
      "Top 50 - Global\n",
      "250\n",
      "Disney Hits\n",
      "350\n",
      "Best of the Decade For You\n",
      "450\n",
      "The Ultimate Hit Mix\n",
      "550\n",
      "Music Shuttle\n",
      "604\n",
      "Pop Mix\n",
      "654\n",
      "Matt Maeson Mix\n",
      "704\n",
      "Coldplay Mix\n",
      "754\n",
      "Romantic Mix\n",
      "804\n",
      "Happy Mix\n",
      "854\n",
      "Indie Shower Tunes\n",
      "889\n",
      "All Out 00s\n",
      "989\n",
      "Chill Hits\n",
      "1089\n",
      "Workout\n",
      "1189\n",
      "Safar Mix\n",
      "1236\n",
      "Songs to Sing in the Car\n",
      "1336\n",
      "Bas Aise Hi Ver 2\n",
      "1436\n",
      "español\n",
      "1448\n",
      "Instrumental\n",
      "1460\n",
      "Nitansh + 5 others\n",
      "1510\n",
      "Bas Aise Hi\n",
      "1610\n",
      "[{'track_uri': 'spotify:track:278NmaKNQjLEF3sNyEzcSN', 'track_name': 'Rise Again', 'artist_name': 'Kevin Waters Group', 'artist_pop': 36, 'artist_genres': [], 'album': 'Rise Again', 'track_pop': 44}, {'track_uri': 'spotify:track:4c9u4ruTL1xWv2YcnS8AjN', 'track_name': 'In The Wee Small Hours Of The Morning', 'artist_name': 'Gerry Mulligan Sextet', 'artist_pop': 39, 'artist_genres': ['bebop', 'cool jazz'], 'album': 'Night Lights (Expanded Edition)', 'track_pop': 50}]\n",
      "1610\n"
     ]
    }
   ],
   "source": [
    "# importing features list from user_playlist_songs.py including all the songs and its features\n",
    "import import_ipynb\n",
    "from user_playlist_songs import features_list"
   ]
  },
  {
   "cell_type": "code",
   "execution_count": 4,
   "metadata": {},
   "outputs": [],
   "source": [
    "import pandas as pd\n",
    "import numpy as np\n",
    "import matplotlib.pyplot as plt\n",
    "import seaborn as sns"
   ]
  },
  {
   "cell_type": "code",
   "execution_count": 45,
   "metadata": {},
   "outputs": [],
   "source": [
    "class create_dict(dict):\n",
    "    \n",
    "    def __init__(self):\n",
    "        self = dict()\n",
    "\n",
    "    def add(self, key, value):\n",
    "        self[key] = value"
   ]
  },
  {
   "cell_type": "code",
   "execution_count": 61,
   "metadata": {},
   "outputs": [
    {
     "data": {
      "text/html": [
       "<div>\n",
       "<style scoped>\n",
       "    .dataframe tbody tr th:only-of-type {\n",
       "        vertical-align: middle;\n",
       "    }\n",
       "\n",
       "    .dataframe tbody tr th {\n",
       "        vertical-align: top;\n",
       "    }\n",
       "\n",
       "    .dataframe thead th {\n",
       "        text-align: right;\n",
       "    }\n",
       "</style>\n",
       "<table border=\"1\" class=\"dataframe\">\n",
       "  <thead>\n",
       "    <tr style=\"text-align: right;\">\n",
       "      <th></th>\n",
       "      <th>track_name</th>\n",
       "      <th>artist_name</th>\n",
       "      <th>artist_pop</th>\n",
       "      <th>artist_genres</th>\n",
       "      <th>album</th>\n",
       "      <th>danceability</th>\n",
       "      <th>energy</th>\n",
       "      <th>loudness</th>\n",
       "      <th>speechiness</th>\n",
       "      <th>acousticness</th>\n",
       "      <th>instrumentalness</th>\n",
       "      <th>liveness</th>\n",
       "      <th>valence</th>\n",
       "      <th>tempo</th>\n",
       "      <th>duration_ms</th>\n",
       "      <th>time_signature</th>\n",
       "      <th>track_pop</th>\n",
       "    </tr>\n",
       "  </thead>\n",
       "  <tbody>\n",
       "    <tr>\n",
       "      <th>0</th>\n",
       "      <td>Rise Again</td>\n",
       "      <td>Kevin Waters Group</td>\n",
       "      <td>36</td>\n",
       "      <td>[]</td>\n",
       "      <td>Rise Again</td>\n",
       "      <td>0.450</td>\n",
       "      <td>0.10500</td>\n",
       "      <td>-15.388</td>\n",
       "      <td>0.0355</td>\n",
       "      <td>0.977</td>\n",
       "      <td>0.380</td>\n",
       "      <td>0.106</td>\n",
       "      <td>0.1840</td>\n",
       "      <td>114.510</td>\n",
       "      <td>299264</td>\n",
       "      <td>4</td>\n",
       "      <td>44</td>\n",
       "    </tr>\n",
       "    <tr>\n",
       "      <th>1</th>\n",
       "      <td>In The Wee Small Hours Of The Morning</td>\n",
       "      <td>Gerry Mulligan Sextet</td>\n",
       "      <td>39</td>\n",
       "      <td>[bebop, cool jazz]</td>\n",
       "      <td>Night Lights (Expanded Edition)</td>\n",
       "      <td>0.521</td>\n",
       "      <td>0.00894</td>\n",
       "      <td>-24.142</td>\n",
       "      <td>0.0414</td>\n",
       "      <td>0.974</td>\n",
       "      <td>0.371</td>\n",
       "      <td>0.108</td>\n",
       "      <td>0.1710</td>\n",
       "      <td>115.007</td>\n",
       "      <td>339533</td>\n",
       "      <td>3</td>\n",
       "      <td>50</td>\n",
       "    </tr>\n",
       "    <tr>\n",
       "      <th>2</th>\n",
       "      <td>Lush Life</td>\n",
       "      <td>Tiril Brandt</td>\n",
       "      <td>24</td>\n",
       "      <td>[]</td>\n",
       "      <td>Lush Life</td>\n",
       "      <td>0.496</td>\n",
       "      <td>0.13400</td>\n",
       "      <td>-19.588</td>\n",
       "      <td>0.0385</td>\n",
       "      <td>0.958</td>\n",
       "      <td>0.946</td>\n",
       "      <td>0.107</td>\n",
       "      <td>0.0407</td>\n",
       "      <td>98.992</td>\n",
       "      <td>242399</td>\n",
       "      <td>4</td>\n",
       "      <td>43</td>\n",
       "    </tr>\n",
       "    <tr>\n",
       "      <th>3</th>\n",
       "      <td>A Hero Lives Another Day</td>\n",
       "      <td>Claudia Torrek</td>\n",
       "      <td>28</td>\n",
       "      <td>[background jazz]</td>\n",
       "      <td>A Hero Lives Another Day</td>\n",
       "      <td>0.424</td>\n",
       "      <td>0.13800</td>\n",
       "      <td>-16.483</td>\n",
       "      <td>0.0320</td>\n",
       "      <td>0.968</td>\n",
       "      <td>0.890</td>\n",
       "      <td>0.123</td>\n",
       "      <td>0.0626</td>\n",
       "      <td>81.347</td>\n",
       "      <td>186768</td>\n",
       "      <td>4</td>\n",
       "      <td>47</td>\n",
       "    </tr>\n",
       "    <tr>\n",
       "      <th>4</th>\n",
       "      <td>Rainbow Mountains</td>\n",
       "      <td>Chris Memento</td>\n",
       "      <td>37</td>\n",
       "      <td>[]</td>\n",
       "      <td>Rainbow Mountains</td>\n",
       "      <td>0.409</td>\n",
       "      <td>0.16600</td>\n",
       "      <td>-14.307</td>\n",
       "      <td>0.0339</td>\n",
       "      <td>0.919</td>\n",
       "      <td>0.753</td>\n",
       "      <td>0.315</td>\n",
       "      <td>0.1640</td>\n",
       "      <td>108.547</td>\n",
       "      <td>290750</td>\n",
       "      <td>4</td>\n",
       "      <td>39</td>\n",
       "    </tr>\n",
       "  </tbody>\n",
       "</table>\n",
       "</div>"
      ],
      "text/plain": [
       "                              track_name            artist_name  artist_pop  \\\n",
       "0                             Rise Again     Kevin Waters Group          36   \n",
       "1  In The Wee Small Hours Of The Morning  Gerry Mulligan Sextet          39   \n",
       "2                              Lush Life           Tiril Brandt          24   \n",
       "3               A Hero Lives Another Day         Claudia Torrek          28   \n",
       "4                      Rainbow Mountains          Chris Memento          37   \n",
       "\n",
       "        artist_genres                            album  danceability   energy  \\\n",
       "0                  []                       Rise Again         0.450  0.10500   \n",
       "1  [bebop, cool jazz]  Night Lights (Expanded Edition)         0.521  0.00894   \n",
       "2                  []                        Lush Life         0.496  0.13400   \n",
       "3   [background jazz]         A Hero Lives Another Day         0.424  0.13800   \n",
       "4                  []                Rainbow Mountains         0.409  0.16600   \n",
       "\n",
       "   loudness  speechiness  acousticness  instrumentalness  liveness  valence  \\\n",
       "0   -15.388       0.0355         0.977             0.380     0.106   0.1840   \n",
       "1   -24.142       0.0414         0.974             0.371     0.108   0.1710   \n",
       "2   -19.588       0.0385         0.958             0.946     0.107   0.0407   \n",
       "3   -16.483       0.0320         0.968             0.890     0.123   0.0626   \n",
       "4   -14.307       0.0339         0.919             0.753     0.315   0.1640   \n",
       "\n",
       "     tempo  duration_ms  time_signature  track_pop  \n",
       "0  114.510       299264               4         44  \n",
       "1  115.007       339533               3         50  \n",
       "2   98.992       242399               4         43  \n",
       "3   81.347       186768               4         47  \n",
       "4  108.547       290750               4         39  "
      ]
     },
     "execution_count": 61,
     "metadata": {},
     "output_type": "execute_result"
    }
   ],
   "source": [
    "songs_df = pd.DataFrame(features_list) # converting list to pandas dataframe\n",
    "songs_df.head()"
   ]
  },
  {
   "cell_type": "code",
   "execution_count": 62,
   "metadata": {},
   "outputs": [
    {
     "name": "stdout",
     "output_type": "stream",
     "text": [
      "(1610, 17)\n",
      "(1268, 17)\n"
     ]
    }
   ],
   "source": [
    "print(songs_df.shape)\n",
    "songs_df.drop_duplicates(subset='track_name', inplace=True) # removing duplicate songs based on track name\n",
    "print(songs_df.shape)"
   ]
  },
  {
   "cell_type": "code",
   "execution_count": 63,
   "metadata": {},
   "outputs": [],
   "source": [
    "songs_csv = songs_df.to_csv('songs_df.csv', index=False) # saving dataframe to csv file"
   ]
  },
  {
   "cell_type": "code",
   "execution_count": 64,
   "metadata": {},
   "outputs": [
    {
     "data": {
      "text/plain": [
       "track_name           object\n",
       "artist_name          object\n",
       "artist_pop            int64\n",
       "artist_genres        object\n",
       "album                object\n",
       "danceability        float64\n",
       "energy              float64\n",
       "loudness            float64\n",
       "speechiness         float64\n",
       "acousticness        float64\n",
       "instrumentalness    float64\n",
       "liveness            float64\n",
       "valence             float64\n",
       "tempo               float64\n",
       "duration_ms           int64\n",
       "time_signature        int64\n",
       "track_pop             int64\n",
       "dtype: object"
      ]
     },
     "execution_count": 64,
     "metadata": {},
     "output_type": "execute_result"
    }
   ],
   "source": [
    "songs_df.dtypes"
   ]
  },
  {
   "cell_type": "code",
   "execution_count": 65,
   "metadata": {},
   "outputs": [
    {
     "data": {
      "text/plain": [
       "<bound method Series.unique of 0                                                      []\n",
       "1                                      [bebop, cool jazz]\n",
       "2                                                      []\n",
       "3                                       [background jazz]\n",
       "4                                                      []\n",
       "                              ...                        \n",
       "1603    [desi hip hop, desi pop, filmi, modern bollywood]\n",
       "1604                  [desi pop, filmi, modern bollywood]\n",
       "1606                                                   []\n",
       "1607                                              [disco]\n",
       "1608                                              [disco]\n",
       "Name: artist_genres, Length: 1268, dtype: object>"
      ]
     },
     "execution_count": 65,
     "metadata": {},
     "output_type": "execute_result"
    }
   ],
   "source": [
    "songs_df[\"artist_genres\"].unique # finding unique artist genres"
   ]
  },
  {
   "cell_type": "code",
   "execution_count": 86,
   "metadata": {},
   "outputs": [
    {
     "name": "stdout",
     "output_type": "stream",
     "text": [
      "344\n"
     ]
    }
   ],
   "source": [
    "all_unique_genres = create_dict()\n",
    "for genre in songs_df[\"artist_genres\"]:\n",
    "    \n",
    "    for genre_name in genre:\n",
    "        # creating a bag of words for artist genres based on count of genres\n",
    "        if genre_name not in all_unique_genres:\n",
    "            all_unique_genres.add(genre_name,1)\n",
    "        if genre_name in all_unique_genres:\n",
    "            all_unique_genres[genre_name]+=1\n",
    "        \n",
    "\n",
    "print(len(all_unique_genres))"
   ]
  },
  {
   "cell_type": "code",
   "execution_count": 67,
   "metadata": {},
   "outputs": [],
   "source": [
    "# added new column to dataframe for all the unique genres\n",
    "for row in songs_df.iterrows():\n",
    "    genre_score=0 # initializing genre score to 0\n",
    "    for genre in row[1][\"artist_genres\"]: # iterating through all the genres of a song\n",
    "        genre_score = genre_score+all_unique_genres[genre] # adding the score of each genre to genre score\n",
    "        \n",
    "    songs_df.loc[row[0], \"genre_score\"] = genre_score # adding the genre score to the dataframe\n",
    "    # incase genre of a certain is not available in the dataframe, genre_score assigned = 0\n",
    "    "
   ]
  },
  {
   "cell_type": "code",
   "execution_count": 68,
   "metadata": {},
   "outputs": [
    {
     "name": "stdout",
     "output_type": "stream",
     "text": [
      "{'bebop': 13, 'cool jazz': 6, 'background jazz': 35, 'contemporary jazz': 4, 'jazz': 15, 'jazz fusion': 5, 'jazz trio': 3, 'modern jazz trio': 2, 'ecm-style jazz': 7, 'big band': 4, 'hard bop': 8, 'jazz blues': 2, 'vocal jazz': 4, 'contemporary post-bop': 5, 'jazz saxophone': 6, 'stride': 7, 'jazz quartet': 3, 'adult standards': 7, 'swing': 3, 'avant-garde jazz': 2, 'jazz double bass': 2, 'soul jazz': 3, 'instrumental funk': 2, 'jazz funk': 2, 'jazz piano': 4, 'uk contemporary jazz': 2, 'jazz trombone': 2, 'free jazz': 2, 'jazz trumpet': 3, \"man's orchestra\": 2, 'swedish jazz': 2, 'desi hip hop': 53, 'desi pop': 278, 'pakistani hip hop': 8, 'punjabi hip hop': 14, 'punjabi pop': 94, 'haryanvi pop': 4, 'modern bollywood': 190, 'filmi': 176, 'indian underground rap': 2, 'bhangra': 5, 'alternative r&b': 3, 'viral pop': 35, 'pop': 439, 'art pop': 8, 'art rock': 3, 'baroque pop': 4, 'new wave pop': 4, 'permanent wave': 30, 'piano rock': 17, 'singer-songwriter': 4, 'latin': 32, 'reggaeton': 16, 'trap latino': 18, 'reggaeton colombiano': 6, 'k-pop': 7, 'k-pop boy group': 5, 'gauze pop': 2, 'indietronica': 18, 'shiver pop': 2, 'colombian pop': 11, 'dance pop': 216, 'latin pop': 13, 'escape room': 2, 'minnesota hip hop': 2, 'trap queen': 2, 'deep underground hip hop': 2, 'kentucky hip hop': 2, 'rap': 12, 'australian hip hop': 2, 'post-teen pop': 101, 'dfw rap': 4, 'melodic rap': 4, 'glam rock': 4, 'mellow gold': 7, 'alt z': 67, 'latin viral pop': 3, 'rap latina': 3, 'canadian pop': 33, 'mambo chileno': 2, 'urbano chileno': 3, 'gen z singer-songwriter': 16, 'edm': 37, 'electro house': 11, 'house': 6, 'pop rap': 32, 'progressive house': 5, 'uk dance': 7, 'modern rock': 91, 'rock': 24, 'lgbtq+ hip hop': 3, 'uk pop': 58, 'belgian edm': 2, 'pop dance': 38, 'tropical house': 36, 'atl hip hop': 3, 'southern hip hop': 3, 'trap': 3, 'puerto rican pop': 2, 'trap chileno': 2, 'trap triste': 2, 'pop rock': 108, 'modern alternative rock': 17, 'shimmer pop': 2, 'canadian contemporary r&b': 9, 'funk carioca': 2, 'funk pop': 2, 'pagode baiano': 2, 'pop nacional': 2, 'chill pop': 4, 'disney': 26, 'hollywood': 51, 'movie tunes': 42, 'show tunes': 30, 'broadway': 4, 'bubblegum pop': 2, 'classic uk pop': 2, 'soft rock': 6, 'tagalog worship': 5, 'rock drums': 3, 'hip hop': 9, 'r&b': 18, 'urban contemporary': 22, 'electropop': 54, 'orchestral soundtrack': 2, 'soundtrack': 2, 'champeta': 5, 'tropical': 8, 'vallenato': 5, 'vapor pop': 2, 'celtic': 3, 'puirt-a-beul': 3, 'scottish folk': 3, 'contemporary r&b': 5, 'hip pop': 15, 'neo soul': 9, 'new jack swing': 4, 'quiet storm': 4, 'new orleans jazz': 2, 'acoustic pop': 14, 'folk': 3, 'lilith': 3, 'modern folk rock': 2, 'neo mellow': 54, 'new americana': 7, 'emo': 2, 'contemporary country': 11, 'country dawn': 3, 'texas country': 3, 'country': 10, 'country road': 5, 'boy band': 30, 'talent show': 15, 'dance rock': 3, 'indie poptimism': 19, 'metropopolis': 11, 'celtic rock': 8, 'folk-pop': 29, 'danish pop': 6, 'scandipop': 8, 'australian pop': 16, 'pop soul': 8, 'brostep': 8, 'progressive electro house': 7, 'reggae fusion': 4, 'stomp and holler': 26, 'modern country rock': 2, 'pittsburgh rap': 2, 'irish singer-songwriter': 6, 'neon pop punk': 6, 'pop punk': 7, 'complextro': 2, 'german techno': 2, 'girl group': 10, 'british soul': 6, 'uk funky': 3, 'etherpop': 2, 'modern alternative pop': 3, 'big room': 3, 'nz pop': 2, 'barbadian pop': 2, 'canadian hip hop': 2, 'toronto rap': 2, 'soul': 2, 'danish electronic': 2, 'deep house': 2, 'pop edm': 4, 'golden age hip hop': 2, 'old school hip hop': 2, 'queens hip hop': 2, 'hip house': 3, 'australian dance': 3, 'dutch edm': 3, 'slap house': 2, 'trance': 2, 'europop': 5, 'alternative rock': 2, 'eurodance': 4, 'alternative pop rock': 5, 'miami hip hop': 3, 'bubblegum dance': 3, 'alternative metal': 5, 'nu metal': 5, 'post-grunge': 3, 'virgin islands reggae': 2, 'g funk': 2, 'gangster rap': 2, 'west coast rap': 2, 'south carolina hip hop': 2, 'conscious hip hop': 2, 'new jersey rap': 2, 'indian indie': 17, 'indian rock': 6, 'mumbai indie': 3, 'pakistani pop': 10, 'desi trap': 2, 'hindi hip hop': 3, 'indian folk': 6, 'hindi indie': 23, 'indian fusion': 2, 'indian edm': 11, 'indian singer-songwriter': 16, 'indian instrumental': 31, 'australian indie': 4, 'indiecoustica': 27, 'indie folk': 7, 'seattle indie': 6, 'pop house': 2, 'melodic dubstep': 2, 'classic bollywood': 26, 'hare krishna': 3, 'ccm': 6, 'christian alternative rock': 5, 'christian music': 5, 'worship': 4, 'anthem worship': 3, 'social media pop': 9, 'new delhi indie': 5, 'gujarati pop': 2, 'brooklyn indie': 5, 'idol': 2, 'north dakota indie': 2, 'charlottesville indie': 3, 'lds': 2, 'a cappella': 2, 'bow pop': 7, 'pop emo': 3, 'texas pop punk': 2, 'cedm': 2, 'lds youth': 2, 'canadian rock': 4, 'classic bangla pop': 3, 'kolkata indie': 3, 'swedish pop': 5, 'himachali pop': 3, 'northeast indian indie': 3, 'classic pakistani pop': 10, 'pakistani rock': 2, 'sufi': 12, 'qawwali': 4, 'afghan pop': 9, 'ghazal': 3, 'hindustani classical': 2, 'hindustani vocal': 2, 'indian classical': 7, 'khayal': 2, 'chutney': 10, 'carnatic instrumental': 5, 'indian jazz': 5, 'indian violin': 5, 'carnatic': 2, 'carnatic vocal': 2, 'tamil pop': 3, 'mollywood': 2, 'dream smp': 10, 'modern indie pop': 3, 'bedroom pop': 4, 'bedroom soul': 2, 'chill r&b': 3, 'norwegian pop': 2, 'indie pop': 3, 'indie anthem-folk': 2, 'irish pop': 4, 'australian country': 2, 'la indie': 2, 'jazz pop': 3, 'lounge': 3, 'pop quebecois': 2, 'teen pop': 2, 'canadian folk': 2, 'swedish electropop': 2, 'indian lo-fi': 2, 'dutch pop': 2, 'glee club': 3, 'mexican pop': 3, 'electro latino': 3, 'latin hip hop': 4, 'punk': 2, 'modern salsa': 2, 'salsa': 2, 'cubaton': 2, 'spanish pop': 2, 'spanish pop rock': 2, 'classic rock': 3, 'folk rock': 3, 'irish rock': 2, 'indie rockism': 2, 'rock-and-roll': 2, 'rockabilly': 2, 'ambient folk': 2, 'british singer-songwriter': 2, 'tamil hip hop': 2, 'latin arena pop': 2, 'cello': 3, 'pop violin': 4, 'otacore': 4, 'scorecore': 3, 'classify': 2, 'theme': 2, 'rap metal': 4, 'canadian ccm': 2, 'canadian metal': 2, 'christian rock': 2, 'rap rock': 3, 'anime lo-fi': 3, 'rap ivoire': 2, 'bass trap': 2, 'vapor twitch': 2, 'lo-fi chill': 2, 'sad lo-fi': 2, 'sad rap': 2, 'emo rap': 2, 'pixie': 2, 'christian pop': 2, 'world worship': 2, 'roots worship': 2, 'cartoon': 3, 'assamese pop': 2, 'classic country pop': 3, \"children's music\": 2, 'disco': 4, 'hi-nrg': 2, 'country rock': 2, 'outlaw country': 2}\n"
     ]
    }
   ],
   "source": [
    "print(all_unique_genres)"
   ]
  },
  {
   "cell_type": "code",
   "execution_count": 69,
   "metadata": {},
   "outputs": [],
   "source": [
    "from sklearn import preprocessing\n",
    "le_artist = preprocessing.LabelEncoder()\n",
    "le_artist.fit(songs_df['artist_name'])\n",
    "songs_df['artist_name'] = le_artist.transform(songs_df['artist_name']) # encoding artist name"
   ]
  },
  {
   "cell_type": "code",
   "execution_count": 81,
   "metadata": {},
   "outputs": [
    {
     "data": {
      "text/html": [
       "<div>\n",
       "<style scoped>\n",
       "    .dataframe tbody tr th:only-of-type {\n",
       "        vertical-align: middle;\n",
       "    }\n",
       "\n",
       "    .dataframe tbody tr th {\n",
       "        vertical-align: top;\n",
       "    }\n",
       "\n",
       "    .dataframe thead th {\n",
       "        text-align: right;\n",
       "    }\n",
       "</style>\n",
       "<table border=\"1\" class=\"dataframe\">\n",
       "  <thead>\n",
       "    <tr style=\"text-align: right;\">\n",
       "      <th></th>\n",
       "      <th>track_name</th>\n",
       "      <th>artist_name</th>\n",
       "      <th>artist_pop</th>\n",
       "      <th>artist_genres</th>\n",
       "      <th>album</th>\n",
       "      <th>danceability</th>\n",
       "      <th>energy</th>\n",
       "      <th>loudness</th>\n",
       "      <th>speechiness</th>\n",
       "      <th>acousticness</th>\n",
       "      <th>instrumentalness</th>\n",
       "      <th>liveness</th>\n",
       "      <th>valence</th>\n",
       "      <th>tempo</th>\n",
       "      <th>duration_ms</th>\n",
       "      <th>time_signature</th>\n",
       "      <th>genre_score</th>\n",
       "      <th>track_pop</th>\n",
       "    </tr>\n",
       "  </thead>\n",
       "  <tbody>\n",
       "    <tr>\n",
       "      <th>0</th>\n",
       "      <td>Rise Again</td>\n",
       "      <td>342</td>\n",
       "      <td>36</td>\n",
       "      <td>[]</td>\n",
       "      <td>Rise Again</td>\n",
       "      <td>0.450</td>\n",
       "      <td>0.10500</td>\n",
       "      <td>-15.388</td>\n",
       "      <td>0.0355</td>\n",
       "      <td>0.977</td>\n",
       "      <td>0.380</td>\n",
       "      <td>0.106</td>\n",
       "      <td>0.1840</td>\n",
       "      <td>114.510</td>\n",
       "      <td>299264</td>\n",
       "      <td>4</td>\n",
       "      <td>0.0</td>\n",
       "      <td>44</td>\n",
       "    </tr>\n",
       "    <tr>\n",
       "      <th>1</th>\n",
       "      <td>In The Wee Small Hours Of The Morning</td>\n",
       "      <td>232</td>\n",
       "      <td>39</td>\n",
       "      <td>[bebop, cool jazz]</td>\n",
       "      <td>Night Lights (Expanded Edition)</td>\n",
       "      <td>0.521</td>\n",
       "      <td>0.00894</td>\n",
       "      <td>-24.142</td>\n",
       "      <td>0.0414</td>\n",
       "      <td>0.974</td>\n",
       "      <td>0.371</td>\n",
       "      <td>0.108</td>\n",
       "      <td>0.1710</td>\n",
       "      <td>115.007</td>\n",
       "      <td>339533</td>\n",
       "      <td>3</td>\n",
       "      <td>19.0</td>\n",
       "      <td>50</td>\n",
       "    </tr>\n",
       "    <tr>\n",
       "      <th>2</th>\n",
       "      <td>Lush Life</td>\n",
       "      <td>626</td>\n",
       "      <td>24</td>\n",
       "      <td>[]</td>\n",
       "      <td>Lush Life</td>\n",
       "      <td>0.496</td>\n",
       "      <td>0.13400</td>\n",
       "      <td>-19.588</td>\n",
       "      <td>0.0385</td>\n",
       "      <td>0.958</td>\n",
       "      <td>0.946</td>\n",
       "      <td>0.107</td>\n",
       "      <td>0.0407</td>\n",
       "      <td>98.992</td>\n",
       "      <td>242399</td>\n",
       "      <td>4</td>\n",
       "      <td>0.0</td>\n",
       "      <td>43</td>\n",
       "    </tr>\n",
       "    <tr>\n",
       "      <th>3</th>\n",
       "      <td>A Hero Lives Another Day</td>\n",
       "      <td>147</td>\n",
       "      <td>28</td>\n",
       "      <td>[background jazz]</td>\n",
       "      <td>A Hero Lives Another Day</td>\n",
       "      <td>0.424</td>\n",
       "      <td>0.13800</td>\n",
       "      <td>-16.483</td>\n",
       "      <td>0.0320</td>\n",
       "      <td>0.968</td>\n",
       "      <td>0.890</td>\n",
       "      <td>0.123</td>\n",
       "      <td>0.0626</td>\n",
       "      <td>81.347</td>\n",
       "      <td>186768</td>\n",
       "      <td>4</td>\n",
       "      <td>35.0</td>\n",
       "      <td>47</td>\n",
       "    </tr>\n",
       "    <tr>\n",
       "      <th>4</th>\n",
       "      <td>Rainbow Mountains</td>\n",
       "      <td>143</td>\n",
       "      <td>37</td>\n",
       "      <td>[]</td>\n",
       "      <td>Rainbow Mountains</td>\n",
       "      <td>0.409</td>\n",
       "      <td>0.16600</td>\n",
       "      <td>-14.307</td>\n",
       "      <td>0.0339</td>\n",
       "      <td>0.919</td>\n",
       "      <td>0.753</td>\n",
       "      <td>0.315</td>\n",
       "      <td>0.1640</td>\n",
       "      <td>108.547</td>\n",
       "      <td>290750</td>\n",
       "      <td>4</td>\n",
       "      <td>0.0</td>\n",
       "      <td>39</td>\n",
       "    </tr>\n",
       "  </tbody>\n",
       "</table>\n",
       "</div>"
      ],
      "text/plain": [
       "                              track_name  artist_name  artist_pop  \\\n",
       "0                             Rise Again          342          36   \n",
       "1  In The Wee Small Hours Of The Morning          232          39   \n",
       "2                              Lush Life          626          24   \n",
       "3               A Hero Lives Another Day          147          28   \n",
       "4                      Rainbow Mountains          143          37   \n",
       "\n",
       "        artist_genres                            album  danceability   energy  \\\n",
       "0                  []                       Rise Again         0.450  0.10500   \n",
       "1  [bebop, cool jazz]  Night Lights (Expanded Edition)         0.521  0.00894   \n",
       "2                  []                        Lush Life         0.496  0.13400   \n",
       "3   [background jazz]         A Hero Lives Another Day         0.424  0.13800   \n",
       "4                  []                Rainbow Mountains         0.409  0.16600   \n",
       "\n",
       "   loudness  speechiness  acousticness  instrumentalness  liveness  valence  \\\n",
       "0   -15.388       0.0355         0.977             0.380     0.106   0.1840   \n",
       "1   -24.142       0.0414         0.974             0.371     0.108   0.1710   \n",
       "2   -19.588       0.0385         0.958             0.946     0.107   0.0407   \n",
       "3   -16.483       0.0320         0.968             0.890     0.123   0.0626   \n",
       "4   -14.307       0.0339         0.919             0.753     0.315   0.1640   \n",
       "\n",
       "     tempo  duration_ms  time_signature  genre_score  track_pop  \n",
       "0  114.510       299264               4          0.0         44  \n",
       "1  115.007       339533               3         19.0         50  \n",
       "2   98.992       242399               4          0.0         43  \n",
       "3   81.347       186768               4         35.0         47  \n",
       "4  108.547       290750               4          0.0         39  "
      ]
     },
     "execution_count": 81,
     "metadata": {},
     "output_type": "execute_result"
    }
   ],
   "source": [
    "# rearranging columns in dataframe\n",
    "songs_df = songs_df[[\"track_name\", \"artist_name\" ,\"artist_pop\", \"artist_genres\", \"album\", \"danceability\", \"energy\", \"loudness\",\t\"speechiness\", \"acousticness\", \"instrumentalness\", \"liveness\", \"valence\", \"tempo\", \"duration_ms\" ,\"time_signature\", \"genre_score\" ,\"track_pop\"]]\n",
    "songs_df.head()"
   ]
  },
  {
   "cell_type": "code",
   "execution_count": 87,
   "metadata": {},
   "outputs": [
    {
     "name": "stdout",
     "output_type": "stream",
     "text": [
      "<class 'pandas.core.frame.DataFrame'>\n"
     ]
    }
   ],
   "source": [
    "songs_df_num = songs_df.select_dtypes(include=['int64', 'float64']) # selecting numerical columns\n",
    "print(type(songs_df_num))\n"
   ]
  },
  {
   "cell_type": "code",
   "execution_count": 88,
   "metadata": {},
   "outputs": [],
   "source": [
    "from sklearn import preprocessing\n",
    "scaler = preprocessing.MinMaxScaler()\n",
    "songs_df_num_scaled = scaler.fit_transform(songs_df_num) # scaling numerical columns using min-max scaler\n"
   ]
  },
  {
   "cell_type": "code",
   "execution_count": 90,
   "metadata": {},
   "outputs": [],
   "source": [
    "songs_df_num_scaled = pd.DataFrame(songs_df_num_scaled, columns=songs_df_num.columns) #converting numpy array to pandas dataframe"
   ]
  },
  {
   "cell_type": "code",
   "execution_count": 91,
   "metadata": {},
   "outputs": [
    {
     "name": "stdout",
     "output_type": "stream",
     "text": [
      "artist_name        -0.046764\n",
      "artist_pop          0.466452\n",
      "danceability        0.153890\n",
      "energy              0.151514\n",
      "loudness            0.250252\n",
      "speechiness         0.042915\n",
      "acousticness       -0.167935\n",
      "instrumentalness   -0.185062\n",
      "liveness            0.000671\n",
      "valence             0.062871\n",
      "tempo               0.043376\n",
      "duration_ms        -0.080606\n",
      "time_signature      0.057128\n",
      "genre_score         0.171655\n",
      "Name: track_pop, dtype: float64\n"
     ]
    }
   ],
   "source": [
    "# finding correlation between features and target variables\n",
    "songs_df_corr = songs_df_num_scaled.corr()[\"track_pop\"][:-1]\n",
    "print(songs_df_corr)"
   ]
  },
  {
   "cell_type": "code",
   "execution_count": null,
   "metadata": {},
   "outputs": [],
   "source": [
    "# creating heatmap of correlation between features and target variables\n"
   ]
  },
  {
   "cell_type": "code",
   "execution_count": null,
   "metadata": {},
   "outputs": [],
   "source": [
    "# # converting pandas to csv\n",
    "# songs_csv = songs_df.to_csv('songs_df.csv', index=False)"
   ]
  },
  {
   "cell_type": "markdown",
   "metadata": {},
   "source": [
    "```https://ink.library.smu.edu.sg/cgi/viewcontent.cgi?referer=&httpsredir=1&article=4962&context=sis_research```\n",
    "```http://cs229.stanford.edu/proj2015/140_report.pdf```"
   ]
  }
 ],
 "metadata": {
  "kernelspec": {
   "display_name": "Python 3.10.4 64-bit",
   "language": "python",
   "name": "python3"
  },
  "language_info": {
   "codemirror_mode": {
    "name": "ipython",
    "version": 3
   },
   "file_extension": ".py",
   "mimetype": "text/x-python",
   "name": "python",
   "nbconvert_exporter": "python",
   "pygments_lexer": "ipython3",
   "version": "3.10.4"
  },
  "orig_nbformat": 4,
  "vscode": {
   "interpreter": {
    "hash": "aee8b7b246df8f9039afb4144a1f6fd8d2ca17a180786b69acc140d282b71a49"
   }
  }
 },
 "nbformat": 4,
 "nbformat_minor": 2
}
