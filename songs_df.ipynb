{
 "cells": [
  {
   "cell_type": "code",
   "execution_count": 1,
   "metadata": {},
   "outputs": [
    {
     "name": "stdout",
     "output_type": "stream",
     "text": [
      "importing Jupyter notebook from user_playlist_songs.ipynb\n",
      "dict_keys(['href', 'items', 'limit', 'next', 'offset', 'previous', 'total'])\n",
      "{'collaborative': False, 'description': '', 'external_urls': {'spotify': 'https://open.spotify.com/playlist/7FMj4cETAO2TFClTongU4P'}, 'href': 'https://api.spotify.com/v1/playlists/7FMj4cETAO2TFClTongU4P', 'id': '7FMj4cETAO2TFClTongU4P', 'images': [{'height': 640, 'url': 'https://mosaic.scdn.co/640/ab67616d0000b2738e6551a2944764bc8e33a960ab67616d0000b273ba26678947112dff3c3158bfab67616d0000b273e6f407c7f3a0ec98845e4431ab67616d0000b273fa0ab3a28b5c52d8a5f97045', 'width': 640}, {'height': 300, 'url': 'https://mosaic.scdn.co/300/ab67616d0000b2738e6551a2944764bc8e33a960ab67616d0000b273ba26678947112dff3c3158bfab67616d0000b273e6f407c7f3a0ec98845e4431ab67616d0000b273fa0ab3a28b5c52d8a5f97045', 'width': 300}, {'height': 60, 'url': 'https://mosaic.scdn.co/60/ab67616d0000b2738e6551a2944764bc8e33a960ab67616d0000b273ba26678947112dff3c3158bfab67616d0000b273e6f407c7f3a0ec98845e4431ab67616d0000b273fa0ab3a28b5c52d8a5f97045', 'width': 60}], 'name': 'Hype', 'owner': {'display_name': 'Sidharth Bahl', 'external_urls': {'spotify': 'https://open.spotify.com/user/31vobssmxfiqxqabazt4vxlhwcwq'}, 'href': 'https://api.spotify.com/v1/users/31vobssmxfiqxqabazt4vxlhwcwq', 'id': '31vobssmxfiqxqabazt4vxlhwcwq', 'type': 'user', 'uri': 'spotify:user:31vobssmxfiqxqabazt4vxlhwcwq'}, 'primary_color': None, 'public': False, 'snapshot_id': 'NTAsYjhjZjliYmUxNjE2NDNiMTg1MGMyNDljNGQ2MmMwZTlmOTEzNTE3ZQ==', 'tracks': {'href': 'https://api.spotify.com/v1/playlists/7FMj4cETAO2TFClTongU4P/tracks', 'total': 47}, 'type': 'playlist', 'uri': 'spotify:playlist:7FMj4cETAO2TFClTongU4P'}\n",
      "Hype\n",
      "47\n",
      "Vibes :)\n",
      "86\n",
      "❤️\n",
      "122\n",
      "slow aesthetic\n",
      "179\n",
      "Aivenyi\n",
      "205\n",
      "Hindi\n",
      "252\n",
      "Some\n",
      "352\n",
      "Lessgo🤍\n",
      "452\n",
      "Chill Vibes\n",
      "515\n",
      "Bas Aise Hi Ver 2\n",
      "615\n",
      "español\n",
      "627\n",
      "Instrumental\n",
      "639\n",
      "Nitansh + 5 others\n",
      "689\n",
      "Bas Aise Hi\n",
      "789\n",
      "[{'track_uri': 'spotify:track:27NovPIUIRrOZoCHxABJwK', 'track_name': 'INDUSTRY BABY (feat. Jack Harlow)', 'artist_name': 'Lil Nas X', 'artist_pop': 82, 'artist_genres': ['lgbtq+ hip hop', 'pop'], 'album': 'INDUSTRY BABY (feat. Jack Harlow)', 'track_pop': 89}, {'track_uri': 'spotify:track:5PjdY0CKGZdEuoNab3yDmX', 'track_name': 'STAY (with Justin Bieber)', 'artist_name': 'The Kid LAROI', 'artist_pop': 83, 'artist_genres': ['australian hip hop'], 'album': 'F*CK LOVE 3: OVER YOU', 'track_pop': 88}]\n"
     ]
    },
    {
     "name": "stderr",
     "output_type": "stream",
     "text": [
      "Expected id of type track but found type Do+Din+Ki+Zindagi+hai+Do+din+ka+mela spotify:local:Neeraj+Arya%27s+Kabir+Cafe::Do+Din+Ki+Zindagi+hai+Do+din+ka+mela:274\n"
     ]
    },
    {
     "name": "stdout",
     "output_type": "stream",
     "text": [
      "'NoneType' object is not subscriptable\n",
      "788\n"
     ]
    }
   ],
   "source": [
    "import import_ipynb\n",
    "from user_playlist_songs import features_list"
   ]
  },
  {
   "cell_type": "code",
   "execution_count": 2,
   "metadata": {},
   "outputs": [],
   "source": [
    "import pandas as pd\n",
    "import numpy as np"
   ]
  },
  {
   "cell_type": "code",
   "execution_count": 11,
   "metadata": {},
   "outputs": [
    {
     "data": {
      "text/html": [
       "<div>\n",
       "<style scoped>\n",
       "    .dataframe tbody tr th:only-of-type {\n",
       "        vertical-align: middle;\n",
       "    }\n",
       "\n",
       "    .dataframe tbody tr th {\n",
       "        vertical-align: top;\n",
       "    }\n",
       "\n",
       "    .dataframe thead th {\n",
       "        text-align: right;\n",
       "    }\n",
       "</style>\n",
       "<table border=\"1\" class=\"dataframe\">\n",
       "  <thead>\n",
       "    <tr style=\"text-align: right;\">\n",
       "      <th></th>\n",
       "      <th>track_name</th>\n",
       "      <th>artist_name</th>\n",
       "      <th>artist_pop</th>\n",
       "      <th>artist_genres</th>\n",
       "      <th>album</th>\n",
       "      <th>danceability</th>\n",
       "      <th>energy</th>\n",
       "      <th>loudness</th>\n",
       "      <th>speechiness</th>\n",
       "      <th>acousticness</th>\n",
       "      <th>instrumentalness</th>\n",
       "      <th>liveness</th>\n",
       "      <th>valence</th>\n",
       "      <th>tempo</th>\n",
       "      <th>duration_ms</th>\n",
       "      <th>time_signature</th>\n",
       "      <th>track_pop</th>\n",
       "    </tr>\n",
       "  </thead>\n",
       "  <tbody>\n",
       "    <tr>\n",
       "      <th>0</th>\n",
       "      <td>INDUSTRY BABY (feat. Jack Harlow)</td>\n",
       "      <td>Lil Nas X</td>\n",
       "      <td>82</td>\n",
       "      <td>[lgbtq+ hip hop, pop]</td>\n",
       "      <td>INDUSTRY BABY (feat. Jack Harlow)</td>\n",
       "      <td>0.736</td>\n",
       "      <td>0.704</td>\n",
       "      <td>-7.409</td>\n",
       "      <td>0.0615</td>\n",
       "      <td>0.02030</td>\n",
       "      <td>0.000000</td>\n",
       "      <td>0.0501</td>\n",
       "      <td>0.894</td>\n",
       "      <td>149.995</td>\n",
       "      <td>212000</td>\n",
       "      <td>4</td>\n",
       "      <td>89</td>\n",
       "    </tr>\n",
       "    <tr>\n",
       "      <th>1</th>\n",
       "      <td>STAY (with Justin Bieber)</td>\n",
       "      <td>The Kid LAROI</td>\n",
       "      <td>83</td>\n",
       "      <td>[australian hip hop]</td>\n",
       "      <td>F*CK LOVE 3: OVER YOU</td>\n",
       "      <td>0.591</td>\n",
       "      <td>0.764</td>\n",
       "      <td>-5.484</td>\n",
       "      <td>0.0483</td>\n",
       "      <td>0.03830</td>\n",
       "      <td>0.000000</td>\n",
       "      <td>0.1030</td>\n",
       "      <td>0.478</td>\n",
       "      <td>169.928</td>\n",
       "      <td>141806</td>\n",
       "      <td>4</td>\n",
       "      <td>88</td>\n",
       "    </tr>\n",
       "    <tr>\n",
       "      <th>2</th>\n",
       "      <td>Beggin'</td>\n",
       "      <td>Måneskin</td>\n",
       "      <td>78</td>\n",
       "      <td>[indie rock italiano, italian pop]</td>\n",
       "      <td>Chosen</td>\n",
       "      <td>0.714</td>\n",
       "      <td>0.800</td>\n",
       "      <td>-4.808</td>\n",
       "      <td>0.0504</td>\n",
       "      <td>0.12700</td>\n",
       "      <td>0.000000</td>\n",
       "      <td>0.3590</td>\n",
       "      <td>0.589</td>\n",
       "      <td>134.002</td>\n",
       "      <td>211560</td>\n",
       "      <td>4</td>\n",
       "      <td>87</td>\n",
       "    </tr>\n",
       "    <tr>\n",
       "      <th>3</th>\n",
       "      <td>Peaches (feat. Daniel Caesar &amp; Giveon)</td>\n",
       "      <td>Justin Bieber</td>\n",
       "      <td>90</td>\n",
       "      <td>[canadian pop, pop]</td>\n",
       "      <td>Justice</td>\n",
       "      <td>0.677</td>\n",
       "      <td>0.696</td>\n",
       "      <td>-6.181</td>\n",
       "      <td>0.1190</td>\n",
       "      <td>0.32100</td>\n",
       "      <td>0.000000</td>\n",
       "      <td>0.4200</td>\n",
       "      <td>0.464</td>\n",
       "      <td>90.030</td>\n",
       "      <td>198082</td>\n",
       "      <td>4</td>\n",
       "      <td>87</td>\n",
       "    </tr>\n",
       "    <tr>\n",
       "      <th>4</th>\n",
       "      <td>Blinding Lights</td>\n",
       "      <td>The Weeknd</td>\n",
       "      <td>91</td>\n",
       "      <td>[canadian contemporary r&amp;b, canadian pop, pop]</td>\n",
       "      <td>After Hours</td>\n",
       "      <td>0.514</td>\n",
       "      <td>0.730</td>\n",
       "      <td>-5.934</td>\n",
       "      <td>0.0598</td>\n",
       "      <td>0.00146</td>\n",
       "      <td>0.000095</td>\n",
       "      <td>0.0897</td>\n",
       "      <td>0.334</td>\n",
       "      <td>171.005</td>\n",
       "      <td>200040</td>\n",
       "      <td>4</td>\n",
       "      <td>90</td>\n",
       "    </tr>\n",
       "  </tbody>\n",
       "</table>\n",
       "</div>"
      ],
      "text/plain": [
       "                               track_name    artist_name  artist_pop  \\\n",
       "0       INDUSTRY BABY (feat. Jack Harlow)      Lil Nas X          82   \n",
       "1               STAY (with Justin Bieber)  The Kid LAROI          83   \n",
       "2                                 Beggin'       Måneskin          78   \n",
       "3  Peaches (feat. Daniel Caesar & Giveon)  Justin Bieber          90   \n",
       "4                         Blinding Lights     The Weeknd          91   \n",
       "\n",
       "                                    artist_genres  \\\n",
       "0                           [lgbtq+ hip hop, pop]   \n",
       "1                            [australian hip hop]   \n",
       "2              [indie rock italiano, italian pop]   \n",
       "3                             [canadian pop, pop]   \n",
       "4  [canadian contemporary r&b, canadian pop, pop]   \n",
       "\n",
       "                               album  danceability  energy  loudness  \\\n",
       "0  INDUSTRY BABY (feat. Jack Harlow)         0.736   0.704    -7.409   \n",
       "1              F*CK LOVE 3: OVER YOU         0.591   0.764    -5.484   \n",
       "2                             Chosen         0.714   0.800    -4.808   \n",
       "3                            Justice         0.677   0.696    -6.181   \n",
       "4                        After Hours         0.514   0.730    -5.934   \n",
       "\n",
       "   speechiness  acousticness  instrumentalness  liveness  valence    tempo  \\\n",
       "0       0.0615       0.02030          0.000000    0.0501    0.894  149.995   \n",
       "1       0.0483       0.03830          0.000000    0.1030    0.478  169.928   \n",
       "2       0.0504       0.12700          0.000000    0.3590    0.589  134.002   \n",
       "3       0.1190       0.32100          0.000000    0.4200    0.464   90.030   \n",
       "4       0.0598       0.00146          0.000095    0.0897    0.334  171.005   \n",
       "\n",
       "   duration_ms  time_signature  track_pop  \n",
       "0       212000               4         89  \n",
       "1       141806               4         88  \n",
       "2       211560               4         87  \n",
       "3       198082               4         87  \n",
       "4       200040               4         90  "
      ]
     },
     "execution_count": 11,
     "metadata": {},
     "output_type": "execute_result"
    }
   ],
   "source": [
    "songs_df = pd.DataFrame(features_list)\n",
    "songs_df.head()"
   ]
  },
  {
   "cell_type": "code",
   "execution_count": 12,
   "metadata": {},
   "outputs": [
    {
     "name": "stdout",
     "output_type": "stream",
     "text": [
      "(788, 17)\n",
      "(666, 17)\n"
     ]
    }
   ],
   "source": [
    "print(songs_df.shape)\n",
    "songs_df.drop_duplicates(subset='track_name', inplace=True)\n",
    "print(songs_df.shape)"
   ]
  },
  {
   "cell_type": "code",
   "execution_count": 13,
   "metadata": {},
   "outputs": [
    {
     "data": {
      "text/plain": [
       "track_name           object\n",
       "artist_name          object\n",
       "artist_pop            int64\n",
       "artist_genres        object\n",
       "album                object\n",
       "danceability        float64\n",
       "energy              float64\n",
       "loudness            float64\n",
       "speechiness         float64\n",
       "acousticness        float64\n",
       "instrumentalness    float64\n",
       "liveness            float64\n",
       "valence             float64\n",
       "tempo               float64\n",
       "duration_ms           int64\n",
       "time_signature        int64\n",
       "track_pop             int64\n",
       "dtype: object"
      ]
     },
     "execution_count": 13,
     "metadata": {},
     "output_type": "execute_result"
    }
   ],
   "source": [
    "songs_df.dtypes"
   ]
  },
  {
   "cell_type": "code",
   "execution_count": null,
   "metadata": {},
   "outputs": [],
   "source": []
  },
  {
   "cell_type": "code",
   "execution_count": 6,
   "metadata": {},
   "outputs": [],
   "source": [
    "# # converting pandas to csv\n",
    "# songs_csv = songs_df.to_csv('songs_df.csv', index=False)"
   ]
  }
 ],
 "metadata": {
  "kernelspec": {
   "display_name": "Python 3.10.4 64-bit",
   "language": "python",
   "name": "python3"
  },
  "language_info": {
   "codemirror_mode": {
    "name": "ipython",
    "version": 3
   },
   "file_extension": ".py",
   "mimetype": "text/x-python",
   "name": "python",
   "nbconvert_exporter": "python",
   "pygments_lexer": "ipython3",
   "version": "3.10.4"
  },
  "orig_nbformat": 4,
  "vscode": {
   "interpreter": {
    "hash": "aee8b7b246df8f9039afb4144a1f6fd8d2ca17a180786b69acc140d282b71a49"
   }
  }
 },
 "nbformat": 4,
 "nbformat_minor": 2
}
